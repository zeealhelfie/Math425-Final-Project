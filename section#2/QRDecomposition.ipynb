{
 "cells": [
  {
   "cell_type": "code",
   "execution_count": 1,
   "metadata": {},
   "outputs": [],
   "source": [
    "import numpy as np\n",
    "import efficient_cancer_data as ecd"
   ]
  },
  {
   "cell_type": "code",
   "execution_count": 7,
   "metadata": {},
   "outputs": [
    {
     "name": "stdout",
     "output_type": "stream",
     "text": [
      "Coefficient for x1: -0.8699\n",
      "Coefficient for x2: 0.0243\n",
      "Coefficient for x3: 0.0627\n",
      "Coefficient for x4: 0.0033\n",
      "Coefficient for x5: 8.7903\n",
      "Coefficient for x6: -1.7471\n",
      "Coefficient for x7: 0.2028\n",
      "Coefficient for x8: 6.5064\n",
      "Coefficient for x9: -5.0618\n",
      "Coefficient for x10: -49.1675\n",
      "Coefficient for x11: 0.9566\n",
      "Coefficient for x12: 0.0821\n",
      "Coefficient for x13: 0.0079\n",
      "Coefficient for x14: -0.0050\n",
      "Coefficient for x15: 27.8419\n",
      "Coefficient for x16: -3.3015\n",
      "Coefficient for x17: -4.9860\n",
      "Coefficient for x18: 16.3189\n",
      "Coefficient for x19: -10.3163\n",
      "Coefficient for x20: 21.3322\n",
      "Coefficient for x21: 0.4086\n",
      "Coefficient for x22: 0.0033\n",
      "Coefficient for x23: 0.0007\n",
      "Coefficient for x24: -0.0025\n",
      "Coefficient for x25: -4.5314\n",
      "Coefficient for x26: -0.5901\n",
      "Coefficient for x27: 0.7194\n",
      "Coefficient for x28: 2.1590\n",
      "Coefficient for x29: 3.8035\n",
      "Coefficient for x30: 12.2984\n"
     ]
    }
   ],
   "source": [
    "# read training data\n",
    "A, b = ecd.read_training_data('train.data')\n",
    "\n",
    "# Calculate the coefficients of the least squares solution using the Gram-Schmidt QR algorithm\n",
    "x = ecd.gram_schmidt_qr(A, b)\n",
    "\n",
    "# print coefficients of the linear model\n",
    "for i, coef in enumerate(x):\n",
    "    print(f\"Coefficient for x{i+1}: {coef:.4f}\")\n"
   ]
  },
  {
   "cell_type": "code",
   "execution_count": 9,
   "metadata": {},
   "outputs": [],
   "source": [
    "# Count the number of misclassifications by iterating over pairs of predicted and true labels.\n",
    "# p represents the predicted label, and q represents the true label.\n",
    "# For each pair (p, q) where p is not equal to q, generate a value of 1 using a generator expression.\n",
    "# Sum up the ones using the `sum` function to obtain the total number of misclassifications.\n",
    "\n",
    "\n",
    "# read validation data\n",
    "A_val, b_val = ecd.read_validation_data('validate.data')\n",
    "\n",
    "# apply linear model to validation data\n",
    "predictions = A_val @ x \n",
    "\n",
    "# classify predictions using threshold of 0\n",
    "classifications = ecd.classify(predictions, threshold=0)\n",
    "\n",
    "# compute percentage of misclassifications on validation data\n",
    "\n",
    "misclassifications_val = sum(1 for p, q in zip(classifications, b_val) if p != q)\n",
    "percentage_misclassified_val = 100 * misclassifications_val / len(b_val)\n",
    "accuracy_val = 100 - percentage_misclassified_val\n",
    "\n",
    "# do the same proccess for the tarining data\n",
    "\n",
    "predictions_train = A @ x\n",
    "classifications_train = ecd.classify(predictions_train, threshold=0)\n",
    "misclassifications_train = sum(1 for p, q in zip(classifications_train, b) if p != q)\n",
    "\n",
    "# compute percentage of misclassifications on training data\n",
    "percentage_misclassified_train = 100 * misclassifications_train / len(b)\n",
    "accuracy_train = 100 - percentage_misclassified_train"
   ]
  },
  {
   "cell_type": "code",
   "execution_count": 4,
   "metadata": {},
   "outputs": [
    {
     "name": "stdout",
     "output_type": "stream",
     "text": [
      "Percentage of misclassifications on training data: 48.67%, Accuracy rate: 51.33%\n",
      "Percentage of misclassifications on validation data: 3.08%, Accuracy rate: 96.92%\n",
      "Percentage of misclassifications on validation data is smaller than success rate on training data.\n"
     ]
    }
   ],
   "source": [
    "# print percentage of misclassifications and accuracy rate on validation and training data\n",
    "\n",
    "print(f\"Percentage of misclassifications on training data: {percentage_misclassified_train:.2f}%, Accuracy rate: {accuracy_train:.2f}%\")\n",
    "\n",
    "print(f\"Percentage of misclassifications on validation data: {percentage_misclassified_val:.2f}%, Accuracy rate: {accuracy_val:.2f}%\")\n",
    "\n",
    "# compare with success rate on training data\n",
    "if percentage_misclassified_val > percentage_misclassified_train:\n",
    "    print(\"Percentage of misclassifications on validation data is greater than success rate on training data.\")\n",
    "elif percentage_misclassified_val < percentage_misclassified_train:\n",
    "    print(\"Percentage of misclassifications on validation data is smaller than success rate on training data.\")\n",
    "else:\n",
    "    print(\"Percentage of misclassifications on validation data is equal to success rate on training data.\")"
   ]
  }
 ],
 "metadata": {
  "kernelspec": {
   "display_name": "base",
   "language": "python",
   "name": "python3"
  },
  "language_info": {
   "codemirror_mode": {
    "name": "ipython",
    "version": 3
   },
   "file_extension": ".py",
   "mimetype": "text/x-python",
   "name": "python",
   "nbconvert_exporter": "python",
   "pygments_lexer": "ipython3",
   "version": "3.10.9"
  },
  "orig_nbformat": 4
 },
 "nbformat": 4,
 "nbformat_minor": 2
}
